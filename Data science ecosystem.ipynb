{
  "metadata": {
    "language_info": {
      "codemirror_mode": {
        "name": "python",
        "version": 3
      },
      "file_extension": ".py",
      "mimetype": "text/x-python",
      "name": "python",
      "nbconvert_exporter": "python",
      "pygments_lexer": "ipython3",
      "version": "3.8"
    },
    "kernelspec": {
      "name": "python",
      "display_name": "Python (Pyodide)",
      "language": "python"
    }
  },
  "nbformat_minor": 4,
  "nbformat": 4,
  "cells": [
    {
      "cell_type": "markdown",
      "source": "  # Datascience Tools and Ecosystem",
      "metadata": {}
    },
    {
      "cell_type": "markdown",
      "source": "**In this notebook, we will learn about Data Science tools and about its eco system.**",
      "metadata": {}
    },
    {
      "cell_type": "markdown",
      "source": "**Objectives:**\n\n                   - List of languages used by data scientist.\n                   - List of libraries used by data scientist.\n                   - Open data science tools.\n                   - Few examples of arithmetic operations in python.",
      "metadata": {}
    },
    {
      "cell_type": "markdown",
      "source": "    Some of languages that Data Scientist use are:\n                                 1. Python\n                                 2. R\n                                 3. Java\n                        ",
      "metadata": {}
    },
    {
      "cell_type": "markdown",
      "source": "    Some of the most commonly used libraries by Data Scientist are:\n                                 1. NumPy\n                                 2. Pandas\n                                 3. Matplotlib",
      "metadata": {}
    },
    {
      "cell_type": "markdown",
      "source": "    Development environment open source tools used in data science.\n    \n                              |--------------------|\n                              | Data Science Tools |\n                              |--------------------|\n                              |  - RStudio         |\n                              |  - Apache Spark    |\n                              |  - TensorFlow      |\n                              |--------------------|",
      "metadata": {}
    },
    {
      "cell_type": "markdown",
      "source": "### Few examples of evaluating arithmetic expressions in Python are listed below:",
      "metadata": {}
    },
    {
      "cell_type": "code",
      "source": "                          (3*4)+5   #This is a arthemetric expression for multipling two integers and then add an integer",
      "metadata": {
        "trusted": true
      },
      "execution_count": 1,
      "outputs": [
        {
          "execution_count": 1,
          "output_type": "execute_result",
          "data": {
            "text/plain": "17"
          },
          "metadata": {}
        }
      ]
    },
    {
      "cell_type": "code",
      "source": "                          a=200\n                          b=200/60\n                          print( a,'minutes =', b,'hours')",
      "metadata": {
        "trusted": true
      },
      "execution_count": 2,
      "outputs": [
        {
          "name": "stdout",
          "text": "200 minutes = 3.3333333333333335 hours\n",
          "output_type": "stream"
        }
      ]
    },
    {
      "cell_type": "markdown",
      "source": "## Author\n*Mohanaprasath*",
      "metadata": {
        "tags": []
      }
    },
    {
      "cell_type": "code",
      "source": "",
      "metadata": {},
      "execution_count": null,
      "outputs": []
    }
  ]
}